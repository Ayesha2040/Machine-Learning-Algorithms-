{
 "cells": [
  {
   "cell_type": "code",
   "execution_count": 87,
   "metadata": {},
   "outputs": [],
   "source": [
    "import numpy as np\n",
    "import matplotlib.pyplot as plt\n",
    "from sklearn import linear_model"
   ]
  },
  {
   "cell_type": "code",
   "execution_count": 164,
   "metadata": {},
   "outputs": [],
   "source": [
    "import warnings\n",
    "warnings.filterwarnings(\"ignore\")"
   ]
  },
  {
   "cell_type": "code",
   "execution_count": 162,
   "metadata": {},
   "outputs": [
    {
     "data": {
      "text/html": [
       "<div>\n",
       "<style scoped>\n",
       "    .dataframe tbody tr th:only-of-type {\n",
       "        vertical-align: middle;\n",
       "    }\n",
       "\n",
       "    .dataframe tbody tr th {\n",
       "        vertical-align: top;\n",
       "    }\n",
       "\n",
       "    .dataframe thead th {\n",
       "        text-align: right;\n",
       "    }\n",
       "</style>\n",
       "<table border=\"1\" class=\"dataframe\">\n",
       "  <thead>\n",
       "    <tr style=\"text-align: right;\">\n",
       "      <th></th>\n",
       "      <th>GRE Score</th>\n",
       "      <th>Chance of Admit</th>\n",
       "    </tr>\n",
       "  </thead>\n",
       "  <tbody>\n",
       "    <tr>\n",
       "      <th>0</th>\n",
       "      <td>323</td>\n",
       "      <td>0.92</td>\n",
       "    </tr>\n",
       "    <tr>\n",
       "      <th>1</th>\n",
       "      <td>312</td>\n",
       "      <td>0.71</td>\n",
       "    </tr>\n",
       "    <tr>\n",
       "      <th>2</th>\n",
       "      <td>310</td>\n",
       "      <td>0.71</td>\n",
       "    </tr>\n",
       "  </tbody>\n",
       "</table>\n",
       "</div>"
      ],
      "text/plain": [
       "   GRE Score  Chance of Admit\n",
       "0        323             0.92\n",
       "1        312             0.71\n",
       "2        310             0.71"
      ]
     },
     "execution_count": 162,
     "metadata": {},
     "output_type": "execute_result"
    }
   ],
   "source": [
    "import pandas as pd\n",
    "df = pd.read_csv('/Users/ayeshamoqeet/Desktop/training_set.csv') \n",
    "df.head(3)\n",
    "dft = pd.read_csv('/Users/ayeshamoqeet/Desktop/test_set.csv') \n",
    "dft.head(3)"
   ]
  },
  {
   "cell_type": "code",
   "execution_count": 181,
   "metadata": {},
   "outputs": [],
   "source": [
    "x_train = df.values[:, 0]  # get input values from first column\n",
    "y_train = df.values[:, 1]  # get output values from last coulmn\n",
    "x_test = dft.values[:, 0]\n",
    "x_testt = dft.values[:, 0]\n",
    "y_test = dft.values[:, 1]\n",
    "m = len(y_train)\n",
    "x_train = np.reshape(x_train, (m, 1))\n",
    "x_train = np.hstack((np.ones((m,1)),x_train))\n",
    "n = len(y_test)\n",
    "x_test = np.reshape(x_test, (n, 1))\n",
    "x_test = np.hstack((np.ones((n,1)),x_test))"
   ]
  },
  {
   "cell_type": "code",
   "execution_count": 165,
   "metadata": {},
   "outputs": [],
   "source": [
    "def batchgradientDescent(X, y, alpha, epoch):\n",
    "  m = X.shape[0]     \n",
    "  n = X.shape[1]   # \n",
    "  Theta =  np.zeros(len(X[1]))    \n",
    "  h = np.dot(X, Theta) \n",
    "  for i in range (0, epoch):\n",
    "    Theta[0] = Theta[0] - (alpha / X.shape[0]) * sum(h-y)\n",
    "    for j in range(1, n):\n",
    "      Theta[j]= Theta[j] - (alpha/ X.shape[0]) * sum((h-y) * X[:, j])\n",
    "    h  = np.dot(X, Theta)\n",
    "  return Theta"
   ]
  },
  {
   "cell_type": "code",
   "execution_count": 166,
   "metadata": {},
   "outputs": [],
   "source": [
    "def predict(x,parameter):\n",
    "  y_pred = x.dot(parameter)\n",
    "  return y_pred\n",
    "parameter = batchgradientDescent(x_train, y_train, 0.00001, 1000)\n",
    "y_pred = predict(x_test,parameter)"
   ]
  },
  {
   "cell_type": "code",
   "execution_count": 167,
   "metadata": {},
   "outputs": [
    {
     "name": "stdout",
     "output_type": "stream",
     "text": [
      "0.0007529192275839592\n"
     ]
    }
   ],
   "source": [
    "def MSE(y_pred,y_actual):\n",
    "  cost = sum(y_pred-y_actual)**2/(2 * m)\n",
    "  return cost\n",
    "\n",
    "parameter = batchgradientDescent(x_train, y_train, 0.000001, 10000)\n",
    "y_pred = predict(x_test,parameter)\n",
    "print(MSE(y_pred,y_test))"
   ]
  },
  {
   "cell_type": "code",
   "execution_count": 173,
   "metadata": {},
   "outputs": [],
   "source": [
    "x_train = {}\n",
    "y_train = {}\n",
    "\n",
    "x_test = {}\n",
    "y_test = {}\n",
    "\n",
    "for i in range(5):\n",
    "  x_train[i] = train[i].values[:, 0]  \n",
    "  y_train[i] = train[i].values[:, 1]  \n",
    "  x_test[i] = val[i].values[:, 0]\n",
    "  y_test[i] = val[i].values[:, 1]\n",
    "  m = len(y_train[i])\n",
    "  x_train[i] = np.reshape(x_train[i], (m, 1))\n",
    "  x_train[i] = np.hstack((np.ones((m,1)),x_train[i]))\n",
    "  n = len(y_test[i])\n",
    "  x_test[i] = np.reshape(x_test[i], (n, 1))\n",
    "  x_test[i] = np.hstack((np.ones((n,1)),x_test[i]))"
   ]
  },
  {
   "cell_type": "code",
   "execution_count": 174,
   "metadata": {},
   "outputs": [],
   "source": [
    "def folds(dataframe, i, k):\n",
    "    n = len(dataframe)\n",
    "    val = dataframe[n*(i-1)//k:n*i//k]\n",
    "    train = dataframe[~dataframe.isin(val)].dropna()\n",
    "    return val,train\n",
    "\n",
    "train = {}\n",
    "val ={}\n",
    "for i in range(5):\n",
    "        val[i], train[i] =  folds(df, i+1, 5)"
   ]
  },
  {
   "cell_type": "code",
   "execution_count": 175,
   "metadata": {},
   "outputs": [
    {
     "name": "stdout",
     "output_type": "stream",
     "text": [
      "[nan, nan, 0.08329539187356258, 0.08329556037577017, 3.7119608039526533, 27.049016485471476]\n"
     ]
    }
   ],
   "source": [
    "def five_fold_val(alpha):\n",
    "  cost = []\n",
    "  for i in range(5):\n",
    "    parameter = batchgradientDescent(x_train[i], y_train[i], alpha, 1000)\n",
    "    y_pred = predict(x_test[i],parameter)\n",
    "    cost.append(MSE(y_pred,y_test[i])) \n",
    "  return sum(cost)\n",
    "\n",
    "alpha = [0.1, 0.0001, 0.00001,0.000001, 0.00000001, 0.0000000001]\n",
    "Totalcost = []\n",
    "for j in alpha:\n",
    "  Totalcost.append(five_fold_val(j)) \n",
    "\n",
    "print(Totalcost)"
   ]
  },
  {
   "cell_type": "code",
   "execution_count": 176,
   "metadata": {},
   "outputs": [
    {
     "name": "stdout",
     "output_type": "stream",
     "text": [
      "[22.327109857777216, 14.614834677036841, 9.57069858911228, 3.3386987487928845, 0.08328907019524068, 0.08329556037577017, 0.0832953918735638]\n"
     ]
    }
   ],
   "source": [
    "def five_fold_val(epoch):\n",
    "  cost = []\n",
    "  for i in range(5):\n",
    "    parameter = batchgradientDescent(x_train[i], y_train[i], 0.000001, epoch)\n",
    "    y_pred = predict(x_test[i],parameter)\n",
    "    cost.append(MSE(y_pred,y_test[i])) \n",
    "  return sum(cost)\n",
    "\n",
    "epoch = [1,3,5,10,100,1000,10000]\n",
    "Totalcost = []\n",
    "for j in epoch:\n",
    "  Totalcost.append(five_fold_val(j)) \n",
    "\n",
    "print(Totalcost)"
   ]
  },
  {
   "cell_type": "code",
   "execution_count": 177,
   "metadata": {},
   "outputs": [],
   "source": [
    "import matplotlib.pyplot as plt\n",
    "\n",
    "def GraphsforAlpha(alpha):\n",
    "  def five_fold_val(epoch):\n",
    "    cost_val = []\n",
    "    cost_train = []\n",
    "    for i in range(5):\n",
    "      parameter = batchgradientDescent(x_train[i], y_train[i], alpha, epoch)\n",
    "      y_pred = predict(x_test[i],parameter)\n",
    "      cost_val.append(MSE(y_pred,y_test[i]))\n",
    "      y_pred_train = predict(x_train[i],parameter)\n",
    "      cost_train.append(MSE(y_pred_train,y_train[i])) \n",
    "    return sum(cost_train), sum(cost_val)\n",
    "\n",
    "  epoch = [10,20,30,40,50,70,80,100,200]\n",
    "  Training_loss = []\n",
    "  Validation_loss = []\n",
    "  for j in epoch:\n",
    "    Training_loss.append((five_fold_val(j)[0])) \n",
    "    Validation_loss.append((five_fold_val(j)[1]))\n",
    "\n",
    "  plt.plot(epoch, Training_loss, 'r--')\n",
    "  plt.plot(epoch, Validation_loss, 'b-')\n",
    "  plt.legend(['Training Loss', 'Test Loss'])\n",
    "  plt.xlabel('Epoch')\n",
    "  plt.ylabel('Loss')\n",
    "  plt.title(alpha)\n",
    "  plt.show();"
   ]
  },
  {
   "cell_type": "code",
   "execution_count": 179,
   "metadata": {},
   "outputs": [
    {
     "data": {
      "image/png": "[encoded data removed]",
      "text/plain": [
       "<Figure size 432x288 with 1 Axes>"
      ]
     },
     "metadata": {
      "needs_background": "light"
     },
     "output_type": "display_data"
    },
    {
     "data": {
      "image/png": "[encoded data removed]",
      "text/plain": [
       "<Figure size 432x288 with 1 Axes>"
      ]
     },
     "metadata": {
      "needs_background": "light"
     },
     "output_type": "display_data"
    },
    {
     "data": {
      "image/png": "[encoded data removed]",
      "text/plain": [
       "<Figure size 432x288 with 1 Axes>"
      ]
     },
     "metadata": {
      "needs_background": "light"
     },
     "output_type": "display_data"
    }
   ],
   "source": [
    "alpha = [0.0001,0.000001, 0.0000001]\n",
    "\n",
    "for i in alpha:\n",
    "  GraphsforAlpha(i)"
   ]
  },
  {
   "cell_type": "code",
   "execution_count": null,
   "metadata": {},
   "outputs": [],
   "source": [
    "# optimal value is 1e^-06 and epcohes around 30"
   ]
  },
  {
   "cell_type": "code",
   "execution_count": 183,
   "metadata": {},
   "outputs": [
    {
     "data": {
      "image/png": "[encoded data removed]",
      "text/plain": [
       "<Figure size 432x288 with 1 Axes>"
      ]
     },
     "metadata": {
      "needs_background": "light"
     },
     "output_type": "display_data"
    }
   ],
   "source": [
    "y = -0.9999830557238819 + 0.005438172683185962*x_testt\n",
    "plt.plot(x_testt, y,'r-')\n",
    "plt.scatter(x_testt,y_test)\n",
    "plt.show()"
   ]
  },
  {
   "cell_type": "code",
   "execution_count": null,
   "metadata": {},
   "outputs": [],
   "source": [
    "#part 2"
   ]
  },
  {
   "cell_type": "code",
   "execution_count": 152,
   "metadata": {},
   "outputs": [
    {
     "data": {
      "text/html": [
       "<div>\n",
       "<style scoped>\n",
       "    .dataframe tbody tr th:only-of-type {\n",
       "        vertical-align: middle;\n",
       "    }\n",
       "\n",
       "    .dataframe tbody tr th {\n",
       "        vertical-align: top;\n",
       "    }\n",
       "\n",
       "    .dataframe thead th {\n",
       "        text-align: right;\n",
       "    }\n",
       "</style>\n",
       "<table border=\"1\" class=\"dataframe\">\n",
       "  <thead>\n",
       "    <tr style=\"text-align: right;\">\n",
       "      <th></th>\n",
       "      <th>date</th>\n",
       "      <th>location</th>\n",
       "      <th>population</th>\n",
       "      <th>median_age</th>\n",
       "      <th>gdp_per_capita</th>\n",
       "      <th>human_development_index</th>\n",
       "      <th>extreme_poverty</th>\n",
       "      <th>cardiovasc_death_rate</th>\n",
       "      <th>diabetes_prevalence</th>\n",
       "      <th>life_expectancy</th>\n",
       "      <th>reproduction_rate</th>\n",
       "      <th>new_cases</th>\n",
       "      <th>total_cases</th>\n",
       "      <th>total_tests</th>\n",
       "      <th>positive_rate</th>\n",
       "      <th>stringency_index</th>\n",
       "      <th>hospital_beds_per_thousand</th>\n",
       "      <th>new_deaths</th>\n",
       "    </tr>\n",
       "  </thead>\n",
       "  <tbody>\n",
       "    <tr>\n",
       "      <th>0</th>\n",
       "      <td>11/15/2020</td>\n",
       "      <td>Paraguay</td>\n",
       "      <td>7132530.0</td>\n",
       "      <td>26.5</td>\n",
       "      <td>8827.010</td>\n",
       "      <td>0.702</td>\n",
       "      <td>1.7</td>\n",
       "      <td>199.128</td>\n",
       "      <td>8.27</td>\n",
       "      <td>74.25</td>\n",
       "      <td>1.08</td>\n",
       "      <td>509.0</td>\n",
       "      <td>71574.0</td>\n",
       "      <td>402564.0</td>\n",
       "      <td>0.233</td>\n",
       "      <td>61.11</td>\n",
       "      <td>1.30</td>\n",
       "      <td>18.0</td>\n",
       "    </tr>\n",
       "    <tr>\n",
       "      <th>1</th>\n",
       "      <td>11/15/2020</td>\n",
       "      <td>Peru</td>\n",
       "      <td>32971846.0</td>\n",
       "      <td>29.1</td>\n",
       "      <td>12236.706</td>\n",
       "      <td>0.750</td>\n",
       "      <td>3.5</td>\n",
       "      <td>85.755</td>\n",
       "      <td>5.95</td>\n",
       "      <td>76.74</td>\n",
       "      <td>0.98</td>\n",
       "      <td>2249.0</td>\n",
       "      <td>934899.0</td>\n",
       "      <td>1385389.0</td>\n",
       "      <td>0.050</td>\n",
       "      <td>74.07</td>\n",
       "      <td>1.60</td>\n",
       "      <td>71.0</td>\n",
       "    </tr>\n",
       "    <tr>\n",
       "      <th>2</th>\n",
       "      <td>11/15/2020</td>\n",
       "      <td>Uruguay</td>\n",
       "      <td>3473727.0</td>\n",
       "      <td>35.6</td>\n",
       "      <td>20551.409</td>\n",
       "      <td>0.804</td>\n",
       "      <td>0.1</td>\n",
       "      <td>160.708</td>\n",
       "      <td>6.93</td>\n",
       "      <td>77.91</td>\n",
       "      <td>1.26</td>\n",
       "      <td>73.0</td>\n",
       "      <td>4030.0</td>\n",
       "      <td>370424.0</td>\n",
       "      <td>0.020</td>\n",
       "      <td>43.52</td>\n",
       "      <td>2.80</td>\n",
       "      <td>1.0</td>\n",
       "    </tr>\n",
       "    <tr>\n",
       "      <th>3</th>\n",
       "      <td>11/16/2020</td>\n",
       "      <td>Argentina</td>\n",
       "      <td>45195777.0</td>\n",
       "      <td>31.9</td>\n",
       "      <td>18933.907</td>\n",
       "      <td>0.825</td>\n",
       "      <td>0.6</td>\n",
       "      <td>191.032</td>\n",
       "      <td>5.50</td>\n",
       "      <td>76.67</td>\n",
       "      <td>0.91</td>\n",
       "      <td>7893.0</td>\n",
       "      <td>1318384.0</td>\n",
       "      <td>3230131.0</td>\n",
       "      <td>0.412</td>\n",
       "      <td>79.17</td>\n",
       "      <td>5.00</td>\n",
       "      <td>291.0</td>\n",
       "    </tr>\n",
       "    <tr>\n",
       "      <th>4</th>\n",
       "      <td>11/16/2020</td>\n",
       "      <td>Bolivia</td>\n",
       "      <td>11673029.0</td>\n",
       "      <td>25.4</td>\n",
       "      <td>6885.829</td>\n",
       "      <td>0.693</td>\n",
       "      <td>7.1</td>\n",
       "      <td>204.299</td>\n",
       "      <td>6.89</td>\n",
       "      <td>71.51</td>\n",
       "      <td>0.99</td>\n",
       "      <td>125.0</td>\n",
       "      <td>143371.0</td>\n",
       "      <td>345687.0</td>\n",
       "      <td>0.120</td>\n",
       "      <td>84.26</td>\n",
       "      <td>1.10</td>\n",
       "      <td>10.0</td>\n",
       "    </tr>\n",
       "    <tr>\n",
       "      <th>...</th>\n",
       "      <td>...</td>\n",
       "      <td>...</td>\n",
       "      <td>...</td>\n",
       "      <td>...</td>\n",
       "      <td>...</td>\n",
       "      <td>...</td>\n",
       "      <td>...</td>\n",
       "      <td>...</td>\n",
       "      <td>...</td>\n",
       "      <td>...</td>\n",
       "      <td>...</td>\n",
       "      <td>...</td>\n",
       "      <td>...</td>\n",
       "      <td>...</td>\n",
       "      <td>...</td>\n",
       "      <td>...</td>\n",
       "      <td>...</td>\n",
       "      <td>...</td>\n",
       "    </tr>\n",
       "    <tr>\n",
       "      <th>168</th>\n",
       "      <td>12/9/2020</td>\n",
       "      <td>Peru</td>\n",
       "      <td>32971846.0</td>\n",
       "      <td>29.1</td>\n",
       "      <td>12236.706</td>\n",
       "      <td>0.750</td>\n",
       "      <td>3.5</td>\n",
       "      <td>85.755</td>\n",
       "      <td>5.95</td>\n",
       "      <td>76.74</td>\n",
       "      <td>1.03</td>\n",
       "      <td>2709.0</td>\n",
       "      <td>976621.0</td>\n",
       "      <td>1738324.0</td>\n",
       "      <td>0.076</td>\n",
       "      <td>67.59</td>\n",
       "      <td>1.60</td>\n",
       "      <td>127.0</td>\n",
       "    </tr>\n",
       "    <tr>\n",
       "      <th>169</th>\n",
       "      <td>12/9/2020</td>\n",
       "      <td>Uruguay</td>\n",
       "      <td>3473727.0</td>\n",
       "      <td>35.6</td>\n",
       "      <td>20551.409</td>\n",
       "      <td>0.804</td>\n",
       "      <td>0.1</td>\n",
       "      <td>160.708</td>\n",
       "      <td>6.93</td>\n",
       "      <td>77.91</td>\n",
       "      <td>1.31</td>\n",
       "      <td>298.0</td>\n",
       "      <td>8104.0</td>\n",
       "      <td>484274.0</td>\n",
       "      <td>0.045</td>\n",
       "      <td>50.00</td>\n",
       "      <td>2.80</td>\n",
       "      <td>1.0</td>\n",
       "    </tr>\n",
       "    <tr>\n",
       "      <th>170</th>\n",
       "      <td>12/10/2020</td>\n",
       "      <td>Argentina</td>\n",
       "      <td>45195777.0</td>\n",
       "      <td>31.9</td>\n",
       "      <td>18933.907</td>\n",
       "      <td>0.825</td>\n",
       "      <td>0.6</td>\n",
       "      <td>191.032</td>\n",
       "      <td>5.50</td>\n",
       "      <td>76.67</td>\n",
       "      <td>0.96</td>\n",
       "      <td>6994.0</td>\n",
       "      <td>1482216.0</td>\n",
       "      <td>3706016.0</td>\n",
       "      <td>0.306</td>\n",
       "      <td>79.17</td>\n",
       "      <td>5.00</td>\n",
       "      <td>209.0</td>\n",
       "    </tr>\n",
       "    <tr>\n",
       "      <th>171</th>\n",
       "      <td>12/10/2020</td>\n",
       "      <td>Bolivia</td>\n",
       "      <td>11673029.0</td>\n",
       "      <td>25.4</td>\n",
       "      <td>6885.829</td>\n",
       "      <td>0.693</td>\n",
       "      <td>7.1</td>\n",
       "      <td>204.299</td>\n",
       "      <td>6.89</td>\n",
       "      <td>71.51</td>\n",
       "      <td>1.40</td>\n",
       "      <td>325.0</td>\n",
       "      <td>146385.0</td>\n",
       "      <td>373293.0</td>\n",
       "      <td>0.136</td>\n",
       "      <td>47.22</td>\n",
       "      <td>1.10</td>\n",
       "      <td>4.0</td>\n",
       "    </tr>\n",
       "    <tr>\n",
       "      <th>172</th>\n",
       "      <td>12/10/2020</td>\n",
       "      <td>Chile</td>\n",
       "      <td>19116209.0</td>\n",
       "      <td>35.4</td>\n",
       "      <td>22767.037</td>\n",
       "      <td>0.843</td>\n",
       "      <td>1.3</td>\n",
       "      <td>127.993</td>\n",
       "      <td>8.46</td>\n",
       "      <td>80.18</td>\n",
       "      <td>1.09</td>\n",
       "      <td>1662.0</td>\n",
       "      <td>566440.0</td>\n",
       "      <td>5659403.0</td>\n",
       "      <td>0.052</td>\n",
       "      <td>73.61</td>\n",
       "      <td>2.11</td>\n",
       "      <td>84.0</td>\n",
       "    </tr>\n",
       "  </tbody>\n",
       "</table>\n",
       "<p>173 rows × 18 columns</p>\n",
       "</div>"
      ],
      "text/plain": [
       "           date   location  population  median_age  gdp_per_capita  \\\n",
       "0    11/15/2020   Paraguay   7132530.0        26.5        8827.010   \n",
       "1    11/15/2020       Peru  32971846.0        29.1       12236.706   \n",
       "2    11/15/2020    Uruguay   3473727.0        35.6       20551.409   \n",
       "3    11/16/2020  Argentina  45195777.0        31.9       18933.907   \n",
       "4    11/16/2020    Bolivia  11673029.0        25.4        6885.829   \n",
       "..          ...        ...         ...         ...             ...   \n",
       "168   12/9/2020       Peru  32971846.0        29.1       12236.706   \n",
       "169   12/9/2020    Uruguay   3473727.0        35.6       20551.409   \n",
       "170  12/10/2020  Argentina  45195777.0        31.9       18933.907   \n",
       "171  12/10/2020    Bolivia  11673029.0        25.4        6885.829   \n",
       "172  12/10/2020      Chile  19116209.0        35.4       22767.037   \n",
       "\n",
       "     human_development_index  extreme_poverty  cardiovasc_death_rate  \\\n",
       "0                      0.702              1.7                199.128   \n",
       "1                      0.750              3.5                 85.755   \n",
       "2                      0.804              0.1                160.708   \n",
       "3                      0.825              0.6                191.032   \n",
       "4                      0.693              7.1                204.299   \n",
       "..                       ...              ...                    ...   \n",
       "168                    0.750              3.5                 85.755   \n",
       "169                    0.804              0.1                160.708   \n",
       "170                    0.825              0.6                191.032   \n",
       "171                    0.693              7.1                204.299   \n",
       "172                    0.843              1.3                127.993   \n",
       "\n",
       "     diabetes_prevalence  life_expectancy  reproduction_rate  new_cases  \\\n",
       "0                   8.27            74.25               1.08      509.0   \n",
       "1                   5.95            76.74               0.98     2249.0   \n",
       "2                   6.93            77.91               1.26       73.0   \n",
       "3                   5.50            76.67               0.91     7893.0   \n",
       "4                   6.89            71.51               0.99      125.0   \n",
       "..                   ...              ...                ...        ...   \n",
       "168                 5.95            76.74               1.03     2709.0   \n",
       "169                 6.93            77.91               1.31      298.0   \n",
       "170                 5.50            76.67               0.96     6994.0   \n",
       "171                 6.89            71.51               1.40      325.0   \n",
       "172                 8.46            80.18               1.09     1662.0   \n",
       "\n",
       "     total_cases  total_tests  positive_rate  stringency_index  \\\n",
       "0        71574.0     402564.0          0.233             61.11   \n",
       "1       934899.0    1385389.0          0.050             74.07   \n",
       "2         4030.0     370424.0          0.020             43.52   \n",
       "3      1318384.0    3230131.0          0.412             79.17   \n",
       "4       143371.0     345687.0          0.120             84.26   \n",
       "..           ...          ...            ...               ...   \n",
       "168     976621.0    1738324.0          0.076             67.59   \n",
       "169       8104.0     484274.0          0.045             50.00   \n",
       "170    1482216.0    3706016.0          0.306             79.17   \n",
       "171     146385.0     373293.0          0.136             47.22   \n",
       "172     566440.0    5659403.0          0.052             73.61   \n",
       "\n",
       "     hospital_beds_per_thousand  new_deaths  \n",
       "0                          1.30        18.0  \n",
       "1                          1.60        71.0  \n",
       "2                          2.80         1.0  \n",
       "3                          5.00       291.0  \n",
       "4                          1.10        10.0  \n",
       "..                          ...         ...  \n",
       "168                        1.60       127.0  \n",
       "169                        2.80         1.0  \n",
       "170                        5.00       209.0  \n",
       "171                        1.10         4.0  \n",
       "172                        2.11        84.0  \n",
       "\n",
       "[173 rows x 18 columns]"
      ]
     },
     "execution_count": 152,
     "metadata": {},
     "output_type": "execute_result"
    }
   ],
   "source": [
    "import pandas as pd\n",
    "df = pd.read_csv('/Users/ayeshamoqeet/Desktop/training_set.csv') \n",
    "df.head(3)\n",
    "dft = pd.read_csv('/Users/ayeshamoqeet/Desktop/test_set.csv') \n",
    "dft.head(3)\n",
    "dfv = pd.read_csv('/Users/ayeshamoqeet/Desktop/validation_set.csv') \n",
    "dfv"
   ]
  },
  {
   "cell_type": "code",
   "execution_count": null,
   "metadata": {},
   "outputs": [],
   "source": []
  },
  {
   "cell_type": "code",
   "execution_count": 131,
   "metadata": {},
   "outputs": [],
   "source": [
    "x_train = df.values[:, 2:17]\n",
    "y_train = df.values[:, -1] \n",
    "x_train = x_train.astype(float)\n",
    "y_train = y_train.astype(float)"
   ]
  },
  {
   "cell_type": "code",
   "execution_count": 125,
   "metadata": {},
   "outputs": [
    {
     "data": {
      "text/plain": [
       "[0.34323889769302174,\n",
       " 0.04193011694571246,\n",
       " 0.02817419535838109,\n",
       " 0.06994879146928112,\n",
       " 0.05448422298070019,\n",
       " -0.17918812132794307,\n",
       " -0.1733428953225832,\n",
       " 0.09146662785363961,\n",
       " -0.1440397107798361,\n",
       " 0.5454681447897511,\n",
       " 0.35936244118929583,\n",
       " 0.2486157704956246,\n",
       " 0.28723423184272917,\n",
       " 0.11831749265688535,\n",
       " 0.103825743862801]"
      ]
     },
     "execution_count": 125,
     "metadata": {},
     "output_type": "execute_result"
    }
   ],
   "source": [
    "import numpy as np\n",
    "cov = []\n",
    "for i in range(15):\n",
    "  cov.append(np.corrcoef(x_train[:, i], y_train, rowvar=True)[0,1])\n",
    "\n",
    "cov"
   ]
  },
  {
   "cell_type": "code",
   "execution_count": 129,
   "metadata": {},
   "outputs": [
    {
     "data": {
      "image/png": "[encoded data removed]",
      "text/plain": [
       "<Figure size 432x288 with 1 Axes>"
      ]
     },
     "metadata": {
      "needs_background": "light"
     },
     "output_type": "display_data"
    },
    {
     "data": {
      "image/png": "[encoded data removed]",
      "text/plain": [
       "<Figure size 432x288 with 1 Axes>"
      ]
     },
     "metadata": {
      "needs_background": "light"
     },
     "output_type": "display_data"
    },
    {
     "data": {
      "image/png": "[encoded data removed]",
      "text/plain": [
       "<Figure size 432x288 with 1 Axes>"
      ]
     },
     "metadata": {
      "needs_background": "light"
     },
     "output_type": "display_data"
    },
    {
     "data": {
      "image/png": "[encoded data removed]",
      "text/plain": [
       "<Figure size 432x288 with 1 Axes>"
      ]
     },
     "metadata": {
      "needs_background": "light"
     },
     "output_type": "display_data"
    },
    {
     "data": {
      "image/png": "[encoded data removed]",
      "text/plain": [
       "<Figure size 432x288 with 1 Axes>"
      ]
     },
     "metadata": {
      "needs_background": "light"
     },
     "output_type": "display_data"
    },
    {
     "data": {
      "image/png": "[encoded data removed]",
      "text/plain": [
       "<Figure size 432x288 with 1 Axes>"
      ]
     },
     "metadata": {
      "needs_background": "light"
     },
     "output_type": "display_data"
    },
    {
     "data": {
      "image/png": "[encoded data removed]",
      "text/plain": [
       "<Figure size 432x288 with 1 Axes>"
      ]
     },
     "metadata": {
      "needs_background": "light"
     },
     "output_type": "display_data"
    },
    {
     "data": {
      "image/png": "[encoded data removed]",
      "text/plain": [
       "<Figure size 432x288 with 1 Axes>"
      ]
     },
     "metadata": {
      "needs_background": "light"
     },
     "output_type": "display_data"
    },
    {
     "data": {
      "image/png": "[encoded data removed]",
      "text/plain": [
       "<Figure size 432x288 with 1 Axes>"
      ]
     },
     "metadata": {
      "needs_background": "light"
     },
     "output_type": "display_data"
    },
    {
     "data": {
      "image/png": "[encoded data removed]",
      "text/plain": [
       "<Figure size 432x288 with 1 Axes>"
      ]
     },
     "metadata": {
      "needs_background": "light"
     },
     "output_type": "display_data"
    },
    {
     "data": {
      "image/png": "[encoded data removed]",
      "text/plain": [
       "<Figure size 432x288 with 1 Axes>"
      ]
     },
     "metadata": {
      "needs_background": "light"
     },
     "output_type": "display_data"
    },
    {
     "data": {
      "image/png": "[encoded data removed]",
      "text/plain": [
       "<Figure size 432x288 with 1 Axes>"
      ]
     },
     "metadata": {
      "needs_background": "light"
     },
     "output_type": "display_data"
    },
    {
     "data": {
      "image/png": "[encoded data removed]",
      "text/plain": [
       "<Figure size 432x288 with 1 Axes>"
      ]
     },
     "metadata": {
      "needs_background": "light"
     },
     "output_type": "display_data"
    },
    {
     "data": {
      "image/png": "[encoded data removed]",
      "text/plain": [
       "<Figure size 432x288 with 1 Axes>"
      ]
     },
     "metadata": {
      "needs_background": "light"
     },
     "output_type": "display_data"
    },
    {
     "data": {
      "image/png": "[encoded data removed]",
      "text/plain": [
       "<Figure size 432x288 with 1 Axes>"
      ]
     },
     "metadata": {
      "needs_background": "light"
     },
     "output_type": "display_data"
    }
   ],
   "source": [
    "for i in range(15): \n",
    "    plt.scatter(x_train[:, i], y_train)\n",
    "    \n",
    "    plt.show()"
   ]
  },
  {
   "cell_type": "code",
   "execution_count": 153,
   "metadata": {},
   "outputs": [],
   "source": [
    "df = df.drop(['date','location','population', 'new_cases','total_cases','total_tests','positive_rate'], axis = 1) \n",
    "dft = dft.drop(['date','location','population', 'new_cases','total_cases','total_tests','positive_rate'], axis = 1) \n",
    "dfv = dfv.drop(['date','location','population', 'new_cases','total_cases','total_tests','positive_rate'], axis = 1) "
   ]
  },
  {
   "cell_type": "code",
   "execution_count": 154,
   "metadata": {},
   "outputs": [],
   "source": [
    "x_train = df.values[:, 0:10] \n",
    "y_train = df.values[:, -1]  \n",
    "x_test = dft.values[:, 0:10] \n",
    "y_test = dft.values[:, -1]  \n",
    "x_val = dfv.values[:, 0:10] \n",
    "y_val = dfv.values[:, -1] "
   ]
  },
  {
   "cell_type": "code",
   "execution_count": 155,
   "metadata": {},
   "outputs": [],
   "source": [
    "def datanormalize(x):\n",
    "  x = np.array(x,dtype=float)\n",
    "  mean = np.mean(x, axis = 0) \n",
    "  std = np.std(x, axis= 0, ddof = 1)\n",
    "  X_norm = (x - mean)/std\n",
    "  return X_norm\n",
    "\n",
    "x_train = datanormalize(x_train)\n",
    "\n",
    "def datanormalizetesting(x):\n",
    "  x = np.array(x,dtype=float)\n",
    "  mean = np.mean(x_train, axis = 0) \n",
    "  std = np.std(x_train, axis= 0, ddof = 1)\n",
    "  X_norm = (x_train - mean)/std\n",
    "  return X_norm\n",
    "\n",
    "x_test = datanormalize(x_test)\n",
    "x_val = datanormalize(x_val)"
   ]
  },
  {
   "cell_type": "code",
   "execution_count": 156,
   "metadata": {},
   "outputs": [],
   "source": [
    "m = len(y_train)\n",
    "ones = np.ones((m))\n",
    "x_train = np.column_stack((ones,x_train))\n",
    "\n",
    "m = len(y_test)\n",
    "onest = np.ones((m))\n",
    "x_test = np.column_stack((onest,x_test))\n",
    "m = len(y_val)\n",
    "onesv = np.ones((m))\n",
    "x_val = np.column_stack((onesv,x_val))"
   ]
  },
  {
   "cell_type": "code",
   "execution_count": 157,
   "metadata": {},
   "outputs": [],
   "source": [
    "def gradient_descent(X, y, alpha, epoch):\n",
    "  m = X.shape[0]     \n",
    "  n = X.shape[1]   # \n",
    "  Theta =  np.zeros(len(X[1]))    \n",
    "  h = np.dot(X, Theta) \n",
    "  cost = np.ones(epoch)\n",
    "  for i in range (0, epoch):\n",
    "    Theta[0] = Theta[0] - (alpha / X.shape[0]) * sum(h-y)\n",
    "    for j in range(1, n):\n",
    "      Theta[j]= Theta[j] - (alpha/ X.shape[0]) * sum((h-y) * X[:, j])\n",
    "    h  = np.dot(X, Theta)\n",
    "    cost[i] = 1/(2*m) * sum(np.square(h-y))  # Compute Cost\n",
    "  return cost, Theta\n",
    "\n",
    "costs, theta = gradient_descent(x_train, y_train, 0.2, 100)"
   ]
  },
  {
   "cell_type": "code",
   "execution_count": 160,
   "metadata": {},
   "outputs": [
    {
     "name": "stdout",
     "output_type": "stream",
     "text": [
      "2442.3758878668527\n"
     ]
    }
   ],
   "source": [
    "def MSE(X,y, epoch): \n",
    "  h = np.dot(X, gradient_descent(x_train, y_train,0.2, epoch)[1])\n",
    "  global cost\n",
    "  cost = 1/(2*m) * sum(np.square(h-y))\n",
    "  return cost\n",
    "\n",
    "print(MSE(x_val,y_val,1000))"
   ]
  },
  {
   "cell_type": "code",
   "execution_count": 161,
   "metadata": {},
   "outputs": [
    {
     "data": {
      "image/png": "[encoded data removed]",
      "text/plain": [
       "<Figure size 432x288 with 1 Axes>"
      ]
     },
     "metadata": {
      "needs_background": "light"
     },
     "output_type": "display_data"
    },
    {
     "name": "stdout",
     "output_type": "stream",
     "text": [
      "Lowest cost =2650.1791518955674\n",
      " Cost after 50 iterations = 22818.867039037195\n"
     ]
    },
    {
     "data": {
      "image/png": "[encoded data removed]",
      "text/plain": [
       "<Figure size 432x288 with 1 Axes>"
      ]
     },
     "metadata": {
      "needs_background": "light"
     },
     "output_type": "display_data"
    },
    {
     "name": "stdout",
     "output_type": "stream",
     "text": [
      "Lowest cost =2650.1791518955674\n",
      " Cost after 50 iterations = 18782.54283055994\n"
     ]
    },
    {
     "data": {
      "image/png": "[encoded data removed]",
      "text/plain": [
       "<Figure size 432x288 with 1 Axes>"
      ]
     },
     "metadata": {
      "needs_background": "light"
     },
     "output_type": "display_data"
    },
    {
     "name": "stdout",
     "output_type": "stream",
     "text": [
      "Lowest cost =2650.1791518955674\n",
      " Cost after 50 iterations = 17579.09529394151\n"
     ]
    }
   ],
   "source": [
    "alpha = [0.002,0.02,0.2]\n",
    "\n",
    "for a in alpha:\n",
    "  costs, theta = gradient_descent(x_train, y_train, a, 50)\n",
    "  cos1 = np.ones(50)\n",
    "  for i in range(50):\n",
    "    cos1[i] = MSE(x_val,y_val,i)\n",
    "  plt.plot(costs)\n",
    "  plt.plot(cos1)\n",
    "  plt.xlabel(\"Epoch (number of iteration)\")\n",
    "  plt.ylabel( \"Cost or Loss\")\n",
    "  plt.show()\n",
    "  print(\"Lowest cost =\" + str(np.min(cost)))\n",
    "  print(\" Cost after 50 iterations = \" + str(costs[-1]))"
   ]
  },
  {
   "cell_type": "code",
   "execution_count": null,
   "metadata": {},
   "outputs": [],
   "source": [
    "#Optimal number is 20 epochs with alpha value of 0.2"
   ]
  },
  {
   "cell_type": "code",
   "execution_count": 11,
   "metadata": {},
   "outputs": [
    {
     "name": "stdout",
     "output_type": "stream",
     "text": [
      "Mean Squared Error: 5675.995403510154\n"
     ]
    }
   ],
   "source": [
    "import numpy as np\n",
    "from sklearn.linear_model import LinearRegression\n",
    "from sklearn import metrics\n",
    "\n",
    "reg = LinearRegression().fit(x_train, y_train)\n",
    "y_pred = reg.predict(x_val)\n",
    "print('Mean Squared Error:', metrics.mean_squared_error(y_val, y_pred)) "
   ]
  },
  {
   "cell_type": "code",
   "execution_count": 21,
   "metadata": {},
   "outputs": [
    {
     "name": "stdout",
     "output_type": "stream",
     "text": [
      "Mean Squared Error: 3650.8139869609586\n"
     ]
    }
   ],
   "source": [
    "from sklearn.linear_model import Ridge"
   ]
  },
  {
   "cell_type": "code",
   "execution_count": 77,
   "metadata": {},
   "outputs": [
    {
     "name": "stdout",
     "output_type": "stream",
     "text": [
      "Min MSE 3613.821942757866\n",
      "Optimal Lmda value: 150\n"
     ]
    }
   ],
   "source": [
    "List = [l*3 for l in range(0,200)]    \n",
    "MSES = []\n",
    "for l in List:\n",
    "    clf = Ridge(alpha=l).fit(x_train, y_train)\n",
    "    y_pred = clf.predict(x_val)\n",
    "    MSE = metrics.mean_squared_error(y_val, y_pred)\n",
    "    MSES.append(MSE)\n",
    "\n",
    "min_MSE = min(MSES)\n",
    "print(\"Min MSE\",min_MSE )\n",
    "for l in List:\n",
    "    clf = Ridge(alpha=l).fit(x_train, y_train)\n",
    "    y_pred = clf.predict(x_val)\n",
    "    MSE = metrics.mean_squared_error(y_val, y_pred)\n",
    "    if MSE == min_MSE:\n",
    "        print(\"Optimal Lmda value:\", l)\n",
    "\n",
    "    "
   ]
  },
  {
   "cell_type": "code",
   "execution_count": 74,
   "metadata": {},
   "outputs": [],
   "source": [
    "from sklearn.linear_model import Lasso\n",
    "\n",
    "List = [l*0.1 for l in range(0,100)] "
   ]
  },
  {
   "cell_type": "code",
   "execution_count": 114,
   "metadata": {},
   "outputs": [
    {
     "name": "stdout",
     "output_type": "stream",
     "text": [
      "Min MSE 3723.6141605610574\n",
      "Optimal Lamda value: 3.8000000000000003\n"
     ]
    }
   ],
   "source": [
    "MSES = []\n",
    "for l in List:\n",
    "    clf = Lasso(alpha=l).fit(x_train, y_train)\n",
    "    y_pred = clf.predict(x_val)\n",
    "    MSE = metrics.mean_squared_error(y_val, y_pred)\n",
    "    MSES.append(MSE)\n",
    "\n",
    "min_MSE = min(MSES)\n",
    "print(\"Min MSE\",min_MSE )\n",
    "for l in List:\n",
    "    clf = Lasso(alpha=l).fit(x_train, y_train)\n",
    "    y_pred = clf.predict(x_val)\n",
    "    MSE = metrics.mean_squared_error(y_val, y_pred)\n",
    "    if MSE == min_MSE:\n",
    "        print(\"Optimal Lamda value:\", l)"
   ]
  },
  {
   "cell_type": "code",
   "execution_count": 78,
   "metadata": {},
   "outputs": [],
   "source": [
    "from sklearn.linear_model import ElasticNet"
   ]
  },
  {
   "cell_type": "code",
   "execution_count": 85,
   "metadata": {},
   "outputs": [],
   "source": [
    "List = [l*0.1 for l in range(0,100)] "
   ]
  },
  {
   "cell_type": "code",
   "execution_count": 115,
   "metadata": {},
   "outputs": [
    {
     "name": "stdout",
     "output_type": "stream",
     "text": [
      "Min MSE 3620.4245122007896\n",
      "Optimal Lamda value: 0.2\n"
     ]
    }
   ],
   "source": [
    "MSES = []\n",
    "for l in List:\n",
    "    clf = ElasticNet(alpha=l).fit(x_train, y_train)\n",
    "    y_pred = clf.predict(x_val)\n",
    "    MSE = metrics.mean_squared_error(y_val, y_pred)\n",
    "    MSES.append(MSE)\n",
    "\n",
    "min_MSE = min(MSES)\n",
    "print(\"Min MSE\",min_MSE )\n",
    "for l in List:\n",
    "    clf = ElasticNet(alpha=l).fit(x_train, y_train)\n",
    "    y_pred = clf.predict(x_val)\n",
    "    MSE = metrics.mean_squared_error(y_val, y_pred)\n",
    "    if MSE == min_MSE:\n",
    "        print(\"Optimal Lamda value:\", l)"
   ]
  },
  {
   "cell_type": "code",
   "execution_count": 88,
   "metadata": {},
   "outputs": [
    {
     "data": {
      "image/png": "[encoded data removed]",
      "text/plain": [
       "<Figure size 432x288 with 1 Axes>"
      ]
     },
     "metadata": {
      "needs_background": "light"
     },
     "output_type": "display_data"
    }
   ],
   "source": [
    "n_alphas = 100\n",
    "alphas = np.logspace(0.001,5, n_alphas)\n",
    "coefs = []\n",
    "for a in alphas:\n",
    "    ridge = linear_model.RidgeCV(alphas=[a], fit_intercept=True, cv=5)\n",
    "    ridge.fit(x_train, y_train)\n",
    "    coefs.append(ridge.coef_)\n",
    "\n",
    "ax = plt.gca()\n",
    "\n",
    "ax.plot(alphas, coefs)\n",
    "ax.set_xscale('log')\n",
    "ax.set_xlim(ax.get_xlim()[::-1])  # reverse axis\n",
    "plt.xlabel('alpha')\n",
    "plt.ylabel('c0=efficents')\n",
    "plt.title('RidgeCV coefficients as a function of the regularization')\n",
    "plt.axis('tight')\n",
    "plt.show()"
   ]
  },
  {
   "cell_type": "code",
   "execution_count": 116,
   "metadata": {},
   "outputs": [
    {
     "data": {
      "image/png": "[encoded data removed]",
      "text/plain": [
       "<Figure size 432x288 with 1 Axes>"
      ]
     },
     "metadata": {
      "needs_background": "light"
     },
     "output_type": "display_data"
    }
   ],
   "source": [
    "n_alphas = 500\n",
    "alphas = np.linspace(0,20 ,n_alphas)\n",
    "coefs = []\n",
    "for a in alphas:\n",
    "    r = linear_model.ElasticNetCV(alphas=[a])\n",
    "    r.fit(x_train, y_train)\n",
    "    coefs.append(r.coef_)\n",
    "\n",
    "ax = plt.gca()\n",
    "\n",
    "ax.plot(alphas, coefs)\n",
    "ax.set_xscale('log')\n",
    "ax.set_xlim(ax.get_xlim()[::-1])  # reverse axis\n",
    "plt.xlabel('lambdas')\n",
    "plt.ylabel('co-efficents')\n",
    "plt.title('Elastic net coefficients as a function of the regularization')\n",
    "plt.axis('tight')\n",
    "plt.show()"
   ]
  },
  {
   "cell_type": "markdown",
   "metadata": {},
   "source": [
    "Lasso"
   ]
  },
  {
   "cell_type": "code",
   "execution_count": 122,
   "metadata": {},
   "outputs": [
    {
     "data": {
      "text/plain": [
       "3410.5256243073277"
      ]
     },
     "execution_count": 122,
     "metadata": {},
     "output_type": "execute_result"
    }
   ],
   "source": [
    "#Ridge\n",
    "clf = Ridge(alpha=150).fit(x_train, y_train)\n",
    "y_pred = clf.predict(x_test)\n",
    "MSE = metrics.mean_squared_error(y_test, y_pred)\n",
    "MSE"
   ]
  },
  {
   "cell_type": "code",
   "execution_count": 118,
   "metadata": {},
   "outputs": [
    {
     "data": {
      "text/plain": [
       "3616.930306631797"
      ]
     },
     "execution_count": 118,
     "metadata": {},
     "output_type": "execute_result"
    }
   ],
   "source": [
    "#Lasso\n",
    "clf = Lasso(alpha=3.8).fit(x_train, y_train)\n",
    "y_pred = clf.predict(x_test)\n",
    "MSE = metrics.mean_squared_error(y_test, y_pred)\n",
    "MSE"
   ]
  },
  {
   "cell_type": "code",
   "execution_count": 120,
   "metadata": {},
   "outputs": [
    {
     "data": {
      "text/plain": [
       "3423.1688207531024"
      ]
     },
     "execution_count": 120,
     "metadata": {},
     "output_type": "execute_result"
    }
   ],
   "source": [
    "#Elastic Net\n",
    "clf = ElasticNet(alpha=0.2).fit(x_train, y_train)\n",
    "y_pred = clf.predict(x_test)\n",
    "MSE = metrics.mean_squared_error(y_test, y_pred)\n",
    "MSE"
   ]
  },
  {
   "cell_type": "code",
   "execution_count": null,
   "metadata": {},
   "outputs": [],
   "source": []
  }
 ],
 "metadata": {
  "kernelspec": {
   "display_name": "Python 3",
   "language": "python",
   "name": "python3"
  },
  "language_info": {
   "codemirror_mode": {
    "name": "ipython",
    "version": 3
   },
   "file_extension": ".py",
   "mimetype": "text/x-python",
   "name": "python",
   "nbconvert_exporter": "python",
   "pygments_lexer": "ipython3",
   "version": "3.8.5"
  }
 },
 "nbformat": 4,
 "nbformat_minor": 4
}
