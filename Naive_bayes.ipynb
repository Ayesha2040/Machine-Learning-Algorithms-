{
 "cells": [
  {
   "cell_type": "code",
   "execution_count": 645,
   "metadata": {},
   "outputs": [],
   "source": [
    "import sklearn\n",
    "import matplotlib.pyplot as plt\n",
    "%matplotlib inline\n",
    "import pandas as pd\n",
    "import numpy as np\n",
    "import math\n",
    "import os\n",
    "from matplotlib import pyplot as plt\n",
    "from sklearn.linear_model import LogisticRegression\n",
    "from sklearn.metrics import confusion_matrix\n",
    "from sklearn.model_selection import train_test_split\n",
    "from sklearn.linear_model import LogisticRegression\n",
    "from sklearn.naive_bayes import MultinomialNB\n",
    "from sklearn.model_selection import GridSearchCV\n",
    "import re\n",
    "from sklearn.feature_extraction.text import TfidfVectorizer\n",
    "import numpy as np"
   ]
  },
  {
   "cell_type": "markdown",
   "metadata": {},
   "source": [
    "# Part 1 - Cleaning the Data"
   ]
  },
  {
   "cell_type": "code",
   "execution_count": 701,
   "metadata": {},
   "outputs": [],
   "source": [
    "train_data= pd.read_csv('train.csv')\n",
    "test_data = pd.read_csv('test.csv')"
   ]
  },
  {
   "cell_type": "code",
   "execution_count": 702,
   "metadata": {},
   "outputs": [],
   "source": [
    "traintweets = train_data[\"Tweet\"]\n",
    "\n",
    "testtweets = test_data[\"Tweet\"]\n",
    "\n",
    "def Processing(string):\n",
    "    def readtext(fN):\n",
    "        file = open(fN, \"r\") \n",
    "        doc = file.read().splitlines()\n",
    "        file.close()\n",
    "        return doc\n",
    "    \n",
    "    stop_words = readtext('stop_words.txt') \n",
    "    \n",
    "    string1 = re.sub(r'[0-9]+', '', string)\n",
    "    punctuations = '''!()-[]{};:'\"\\,<>./?#$%^&*_~''' \n",
    "    newstring = \"\"\n",
    "    for charector in string1: \n",
    "        if charector not in punctuations:\n",
    "            newstring = newstring + charector \n",
    "    string2 = re.sub(r'http\\S+', '', newstring) \n",
    "    string3 = re.sub('@[\\w]+','',string2) \n",
    "    string4 = string3.lower()\n",
    "    string5  = [word for word in re.split(\"\\W+\",string4) if word.lower() not in stop_words] \n",
    "    string6 = (\" \").join(string5) \n",
    "    return string6"
   ]
  },
  {
   "cell_type": "code",
   "execution_count": 703,
   "metadata": {},
   "outputs": [
    {
     "data": {
      "text/html": [
       "<div>\n",
       "<style scoped>\n",
       "    .dataframe tbody tr th:only-of-type {\n",
       "        vertical-align: middle;\n",
       "    }\n",
       "\n",
       "    .dataframe tbody tr th {\n",
       "        vertical-align: top;\n",
       "    }\n",
       "\n",
       "    .dataframe thead th {\n",
       "        text-align: right;\n",
       "    }\n",
       "</style>\n",
       "<table border=\"1\" class=\"dataframe\">\n",
       "  <thead>\n",
       "    <tr style=\"text-align: right;\">\n",
       "      <th></th>\n",
       "      <th>Sentiment</th>\n",
       "      <th>Tweet</th>\n",
       "      <th>Procesed</th>\n",
       "    </tr>\n",
       "  </thead>\n",
       "  <tbody>\n",
       "    <tr>\n",
       "      <th>0</th>\n",
       "      <td>neutral</td>\n",
       "      <td>@united to be clear on my luggage comment, I a...</td>\n",
       "      <td>clear luggage comment referencing photo attac...</td>\n",
       "    </tr>\n",
       "    <tr>\n",
       "      <th>1</th>\n",
       "      <td>positive</td>\n",
       "      <td>@united I wanna be grand staff</td>\n",
       "      <td>wanna grand staff</td>\n",
       "    </tr>\n",
       "    <tr>\n",
       "      <th>2</th>\n",
       "      <td>negative</td>\n",
       "      <td>@united. DAY to IAD and CVG to IAD both Cancel...</td>\n",
       "      <td>day iad cvg iad cancelled flightled united ai...</td>\n",
       "    </tr>\n",
       "    <tr>\n",
       "      <th>3</th>\n",
       "      <td>positive</td>\n",
       "      <td>@JetBlue Looking cool</td>\n",
       "      <td>looking cool</td>\n",
       "    </tr>\n",
       "    <tr>\n",
       "      <th>4</th>\n",
       "      <td>negative</td>\n",
       "      <td>@USAirways disappointment? Making own arrangem...</td>\n",
       "      <td>disappointment making arrangements amp sleepi...</td>\n",
       "    </tr>\n",
       "  </tbody>\n",
       "</table>\n",
       "</div>"
      ],
      "text/plain": [
       "  Sentiment                                              Tweet  \\\n",
       "0   neutral  @united to be clear on my luggage comment, I a...   \n",
       "1  positive                     @united I wanna be grand staff   \n",
       "2  negative  @united. DAY to IAD and CVG to IAD both Cancel...   \n",
       "3  positive                              @JetBlue Looking cool   \n",
       "4  negative  @USAirways disappointment? Making own arrangem...   \n",
       "\n",
       "                                            Procesed  \n",
       "0   clear luggage comment referencing photo attac...  \n",
       "1                                  wanna grand staff  \n",
       "2   day iad cvg iad cancelled flightled united ai...  \n",
       "3                                       looking cool  \n",
       "4   disappointment making arrangements amp sleepi...  "
      ]
     },
     "execution_count": 703,
     "metadata": {},
     "output_type": "execute_result"
    }
   ],
   "source": [
    "train_t = traintweets.copy()\n",
    "for i in range(len(train_t)):\n",
    "    train_t[i] = Processing(train_t[i])\n",
    "train_data.insert(2, \"Procesed\", train_t) \n",
    "\n",
    "test_t = testtweets.copy()\n",
    "for i in range(len(test_t)):\n",
    "    test_t[i] = Processing(test_t[i])\n",
    "test_data.insert(2, \"Procesed\", test_t) \n",
    "train_data.head(5)"
   ]
  },
  {
   "cell_type": "markdown",
   "metadata": {},
   "source": [
    "# Part 2 - Creating Bag of Words"
   ]
  },
  {
   "cell_type": "code",
   "execution_count": 704,
   "metadata": {},
   "outputs": [
    {
     "data": {
      "text/html": [
       "<div>\n",
       "<style scoped>\n",
       "    .dataframe tbody tr th:only-of-type {\n",
       "        vertical-align: middle;\n",
       "    }\n",
       "\n",
       "    .dataframe tbody tr th {\n",
       "        vertical-align: top;\n",
       "    }\n",
       "\n",
       "    .dataframe thead th {\n",
       "        text-align: right;\n",
       "    }\n",
       "</style>\n",
       "<table border=\"1\" class=\"dataframe\">\n",
       "  <thead>\n",
       "    <tr style=\"text-align: right;\">\n",
       "      <th></th>\n",
       "      <th>clear</th>\n",
       "      <th>luggage</th>\n",
       "      <th>comment</th>\n",
       "      <th>referencing</th>\n",
       "      <th>photo</th>\n",
       "      <th>attached</th>\n",
       "      <th>flight</th>\n",
       "      <th>jac</th>\n",
       "      <th>wanna</th>\n",
       "      <th>grand</th>\n",
       "      <th>...</th>\n",
       "      <th>bgm</th>\n",
       "      <th>wk</th>\n",
       "      <th>callcentre</th>\n",
       "      <th>runways</th>\n",
       "      <th>lgasat</th>\n",
       "      <th>usdo</th>\n",
       "      <th>preferably</th>\n",
       "      <th>oneasy</th>\n",
       "      <th>reservationhelpful</th>\n",
       "      <th>reboot</th>\n",
       "    </tr>\n",
       "  </thead>\n",
       "  <tbody>\n",
       "    <tr>\n",
       "      <th>0</th>\n",
       "      <td>1.0</td>\n",
       "      <td>1.0</td>\n",
       "      <td>1.0</td>\n",
       "      <td>1.0</td>\n",
       "      <td>1.0</td>\n",
       "      <td>1.0</td>\n",
       "      <td>1.0</td>\n",
       "      <td>1.0</td>\n",
       "      <td>0.0</td>\n",
       "      <td>0.0</td>\n",
       "      <td>...</td>\n",
       "      <td>0.0</td>\n",
       "      <td>0.0</td>\n",
       "      <td>0.0</td>\n",
       "      <td>0.0</td>\n",
       "      <td>0.0</td>\n",
       "      <td>0.0</td>\n",
       "      <td>0.0</td>\n",
       "      <td>0.0</td>\n",
       "      <td>0.0</td>\n",
       "      <td>0.0</td>\n",
       "    </tr>\n",
       "    <tr>\n",
       "      <th>1</th>\n",
       "      <td>0.0</td>\n",
       "      <td>0.0</td>\n",
       "      <td>0.0</td>\n",
       "      <td>0.0</td>\n",
       "      <td>0.0</td>\n",
       "      <td>0.0</td>\n",
       "      <td>0.0</td>\n",
       "      <td>0.0</td>\n",
       "      <td>1.0</td>\n",
       "      <td>1.0</td>\n",
       "      <td>...</td>\n",
       "      <td>0.0</td>\n",
       "      <td>0.0</td>\n",
       "      <td>0.0</td>\n",
       "      <td>0.0</td>\n",
       "      <td>0.0</td>\n",
       "      <td>0.0</td>\n",
       "      <td>0.0</td>\n",
       "      <td>0.0</td>\n",
       "      <td>0.0</td>\n",
       "      <td>0.0</td>\n",
       "    </tr>\n",
       "    <tr>\n",
       "      <th>2</th>\n",
       "      <td>0.0</td>\n",
       "      <td>0.0</td>\n",
       "      <td>0.0</td>\n",
       "      <td>0.0</td>\n",
       "      <td>0.0</td>\n",
       "      <td>0.0</td>\n",
       "      <td>1.0</td>\n",
       "      <td>0.0</td>\n",
       "      <td>0.0</td>\n",
       "      <td>0.0</td>\n",
       "      <td>...</td>\n",
       "      <td>0.0</td>\n",
       "      <td>0.0</td>\n",
       "      <td>0.0</td>\n",
       "      <td>0.0</td>\n",
       "      <td>0.0</td>\n",
       "      <td>0.0</td>\n",
       "      <td>0.0</td>\n",
       "      <td>0.0</td>\n",
       "      <td>0.0</td>\n",
       "      <td>0.0</td>\n",
       "    </tr>\n",
       "    <tr>\n",
       "      <th>3</th>\n",
       "      <td>0.0</td>\n",
       "      <td>0.0</td>\n",
       "      <td>0.0</td>\n",
       "      <td>0.0</td>\n",
       "      <td>0.0</td>\n",
       "      <td>0.0</td>\n",
       "      <td>0.0</td>\n",
       "      <td>0.0</td>\n",
       "      <td>0.0</td>\n",
       "      <td>0.0</td>\n",
       "      <td>...</td>\n",
       "      <td>0.0</td>\n",
       "      <td>0.0</td>\n",
       "      <td>0.0</td>\n",
       "      <td>0.0</td>\n",
       "      <td>0.0</td>\n",
       "      <td>0.0</td>\n",
       "      <td>0.0</td>\n",
       "      <td>0.0</td>\n",
       "      <td>0.0</td>\n",
       "      <td>0.0</td>\n",
       "    </tr>\n",
       "    <tr>\n",
       "      <th>4</th>\n",
       "      <td>0.0</td>\n",
       "      <td>0.0</td>\n",
       "      <td>0.0</td>\n",
       "      <td>0.0</td>\n",
       "      <td>0.0</td>\n",
       "      <td>0.0</td>\n",
       "      <td>0.0</td>\n",
       "      <td>0.0</td>\n",
       "      <td>0.0</td>\n",
       "      <td>0.0</td>\n",
       "      <td>...</td>\n",
       "      <td>0.0</td>\n",
       "      <td>0.0</td>\n",
       "      <td>0.0</td>\n",
       "      <td>0.0</td>\n",
       "      <td>0.0</td>\n",
       "      <td>0.0</td>\n",
       "      <td>0.0</td>\n",
       "      <td>0.0</td>\n",
       "      <td>0.0</td>\n",
       "      <td>0.0</td>\n",
       "    </tr>\n",
       "    <tr>\n",
       "      <th>...</th>\n",
       "      <td>...</td>\n",
       "      <td>...</td>\n",
       "      <td>...</td>\n",
       "      <td>...</td>\n",
       "      <td>...</td>\n",
       "      <td>...</td>\n",
       "      <td>...</td>\n",
       "      <td>...</td>\n",
       "      <td>...</td>\n",
       "      <td>...</td>\n",
       "      <td>...</td>\n",
       "      <td>...</td>\n",
       "      <td>...</td>\n",
       "      <td>...</td>\n",
       "      <td>...</td>\n",
       "      <td>...</td>\n",
       "      <td>...</td>\n",
       "      <td>...</td>\n",
       "      <td>...</td>\n",
       "      <td>...</td>\n",
       "      <td>...</td>\n",
       "    </tr>\n",
       "    <tr>\n",
       "      <th>5851</th>\n",
       "      <td>0.0</td>\n",
       "      <td>0.0</td>\n",
       "      <td>0.0</td>\n",
       "      <td>0.0</td>\n",
       "      <td>0.0</td>\n",
       "      <td>0.0</td>\n",
       "      <td>0.0</td>\n",
       "      <td>0.0</td>\n",
       "      <td>0.0</td>\n",
       "      <td>0.0</td>\n",
       "      <td>...</td>\n",
       "      <td>0.0</td>\n",
       "      <td>0.0</td>\n",
       "      <td>0.0</td>\n",
       "      <td>0.0</td>\n",
       "      <td>0.0</td>\n",
       "      <td>0.0</td>\n",
       "      <td>0.0</td>\n",
       "      <td>1.0</td>\n",
       "      <td>1.0</td>\n",
       "      <td>0.0</td>\n",
       "    </tr>\n",
       "    <tr>\n",
       "      <th>5852</th>\n",
       "      <td>0.0</td>\n",
       "      <td>0.0</td>\n",
       "      <td>0.0</td>\n",
       "      <td>0.0</td>\n",
       "      <td>0.0</td>\n",
       "      <td>0.0</td>\n",
       "      <td>0.0</td>\n",
       "      <td>0.0</td>\n",
       "      <td>0.0</td>\n",
       "      <td>0.0</td>\n",
       "      <td>...</td>\n",
       "      <td>0.0</td>\n",
       "      <td>0.0</td>\n",
       "      <td>0.0</td>\n",
       "      <td>0.0</td>\n",
       "      <td>0.0</td>\n",
       "      <td>0.0</td>\n",
       "      <td>0.0</td>\n",
       "      <td>0.0</td>\n",
       "      <td>0.0</td>\n",
       "      <td>0.0</td>\n",
       "    </tr>\n",
       "    <tr>\n",
       "      <th>5853</th>\n",
       "      <td>0.0</td>\n",
       "      <td>0.0</td>\n",
       "      <td>0.0</td>\n",
       "      <td>0.0</td>\n",
       "      <td>0.0</td>\n",
       "      <td>0.0</td>\n",
       "      <td>0.0</td>\n",
       "      <td>0.0</td>\n",
       "      <td>0.0</td>\n",
       "      <td>0.0</td>\n",
       "      <td>...</td>\n",
       "      <td>0.0</td>\n",
       "      <td>0.0</td>\n",
       "      <td>0.0</td>\n",
       "      <td>0.0</td>\n",
       "      <td>0.0</td>\n",
       "      <td>0.0</td>\n",
       "      <td>0.0</td>\n",
       "      <td>0.0</td>\n",
       "      <td>0.0</td>\n",
       "      <td>0.0</td>\n",
       "    </tr>\n",
       "    <tr>\n",
       "      <th>5854</th>\n",
       "      <td>0.0</td>\n",
       "      <td>0.0</td>\n",
       "      <td>0.0</td>\n",
       "      <td>0.0</td>\n",
       "      <td>0.0</td>\n",
       "      <td>0.0</td>\n",
       "      <td>0.0</td>\n",
       "      <td>0.0</td>\n",
       "      <td>0.0</td>\n",
       "      <td>0.0</td>\n",
       "      <td>...</td>\n",
       "      <td>0.0</td>\n",
       "      <td>0.0</td>\n",
       "      <td>0.0</td>\n",
       "      <td>0.0</td>\n",
       "      <td>0.0</td>\n",
       "      <td>0.0</td>\n",
       "      <td>0.0</td>\n",
       "      <td>0.0</td>\n",
       "      <td>0.0</td>\n",
       "      <td>0.0</td>\n",
       "    </tr>\n",
       "    <tr>\n",
       "      <th>5855</th>\n",
       "      <td>0.0</td>\n",
       "      <td>0.0</td>\n",
       "      <td>0.0</td>\n",
       "      <td>0.0</td>\n",
       "      <td>0.0</td>\n",
       "      <td>0.0</td>\n",
       "      <td>0.0</td>\n",
       "      <td>0.0</td>\n",
       "      <td>0.0</td>\n",
       "      <td>0.0</td>\n",
       "      <td>...</td>\n",
       "      <td>0.0</td>\n",
       "      <td>0.0</td>\n",
       "      <td>0.0</td>\n",
       "      <td>0.0</td>\n",
       "      <td>0.0</td>\n",
       "      <td>0.0</td>\n",
       "      <td>0.0</td>\n",
       "      <td>0.0</td>\n",
       "      <td>0.0</td>\n",
       "      <td>1.0</td>\n",
       "    </tr>\n",
       "  </tbody>\n",
       "</table>\n",
       "<p>5856 rows × 7551 columns</p>\n",
       "</div>"
      ],
      "text/plain": [
       "      clear  luggage  comment  referencing  photo  attached  flight  jac  \\\n",
       "0       1.0      1.0      1.0          1.0    1.0       1.0     1.0  1.0   \n",
       "1       0.0      0.0      0.0          0.0    0.0       0.0     0.0  0.0   \n",
       "2       0.0      0.0      0.0          0.0    0.0       0.0     1.0  0.0   \n",
       "3       0.0      0.0      0.0          0.0    0.0       0.0     0.0  0.0   \n",
       "4       0.0      0.0      0.0          0.0    0.0       0.0     0.0  0.0   \n",
       "...     ...      ...      ...          ...    ...       ...     ...  ...   \n",
       "5851    0.0      0.0      0.0          0.0    0.0       0.0     0.0  0.0   \n",
       "5852    0.0      0.0      0.0          0.0    0.0       0.0     0.0  0.0   \n",
       "5853    0.0      0.0      0.0          0.0    0.0       0.0     0.0  0.0   \n",
       "5854    0.0      0.0      0.0          0.0    0.0       0.0     0.0  0.0   \n",
       "5855    0.0      0.0      0.0          0.0    0.0       0.0     0.0  0.0   \n",
       "\n",
       "      wanna  grand  ...  bgm   wk  callcentre  runways  lgasat  usdo  \\\n",
       "0       0.0    0.0  ...  0.0  0.0         0.0      0.0     0.0   0.0   \n",
       "1       1.0    1.0  ...  0.0  0.0         0.0      0.0     0.0   0.0   \n",
       "2       0.0    0.0  ...  0.0  0.0         0.0      0.0     0.0   0.0   \n",
       "3       0.0    0.0  ...  0.0  0.0         0.0      0.0     0.0   0.0   \n",
       "4       0.0    0.0  ...  0.0  0.0         0.0      0.0     0.0   0.0   \n",
       "...     ...    ...  ...  ...  ...         ...      ...     ...   ...   \n",
       "5851    0.0    0.0  ...  0.0  0.0         0.0      0.0     0.0   0.0   \n",
       "5852    0.0    0.0  ...  0.0  0.0         0.0      0.0     0.0   0.0   \n",
       "5853    0.0    0.0  ...  0.0  0.0         0.0      0.0     0.0   0.0   \n",
       "5854    0.0    0.0  ...  0.0  0.0         0.0      0.0     0.0   0.0   \n",
       "5855    0.0    0.0  ...  0.0  0.0         0.0      0.0     0.0   0.0   \n",
       "\n",
       "      preferably  oneasy  reservationhelpful  reboot  \n",
       "0            0.0     0.0                 0.0     0.0  \n",
       "1            0.0     0.0                 0.0     0.0  \n",
       "2            0.0     0.0                 0.0     0.0  \n",
       "3            0.0     0.0                 0.0     0.0  \n",
       "4            0.0     0.0                 0.0     0.0  \n",
       "...          ...     ...                 ...     ...  \n",
       "5851         0.0     1.0                 1.0     0.0  \n",
       "5852         0.0     0.0                 0.0     0.0  \n",
       "5853         0.0     0.0                 0.0     0.0  \n",
       "5854         0.0     0.0                 0.0     0.0  \n",
       "5855         0.0     0.0                 0.0     1.0  \n",
       "\n",
       "[5856 rows x 7551 columns]"
      ]
     },
     "execution_count": 704,
     "metadata": {},
     "output_type": "execute_result"
    }
   ],
   "source": [
    "BoW = []\n",
    "for sentence in train_t:\n",
    "    counts = dict()\n",
    "    words = sentence.split()\n",
    "    for word in words:\n",
    "        if word in counts:\n",
    "            counts[word] += 1\n",
    "        else:\n",
    "            counts[word] = 1\n",
    "    BoW.append(counts)\n",
    "    \n",
    "df = pd.DataFrame(BoW)\n",
    "df =df.fillna(0)\n",
    "df"
   ]
  },
  {
   "cell_type": "code",
   "execution_count": 706,
   "metadata": {},
   "outputs": [],
   "source": [
    "# Creating Bag of words for test data with the same vocabulary as train data \n",
    "combine = pd.concat([train_t, test_t])\n",
    "Bow_test = []\n",
    "for sentence in combine:\n",
    "    counts = dict()\n",
    "    words = sentence.split()\n",
    "    for word in words:\n",
    "        if word in counts:\n",
    "            counts[word] += 1\n",
    "        else:\n",
    "            counts[word] = 1\n",
    "    Bow_test.append(counts)\n",
    "df2 = pd.DataFrame(Bow_test)\n",
    "df2 = df2.fillna(0)\n",
    "df2 = df2.reindex(columns=df.columns)\n",
    "df2 = df2[5856:]"
   ]
  },
  {
   "cell_type": "code",
   "execution_count": 707,
   "metadata": {},
   "outputs": [
    {
     "data": {
      "text/plain": [
       "(1464, 7551)"
      ]
     },
     "execution_count": 707,
     "metadata": {},
     "output_type": "execute_result"
    }
   ],
   "source": [
    "df2.shape"
   ]
  },
  {
   "cell_type": "markdown",
   "metadata": {},
   "source": [
    "# Part 3 - Implementation in logistic "
   ]
  },
  {
   "cell_type": "code",
   "execution_count": 654,
   "metadata": {},
   "outputs": [],
   "source": [
    "x_train = df.values\n",
    "train1 = train_data.copy().replace(['positive', 'negative', 'neutral'], \n",
    "                     [1, 0, 0]) \n",
    "train2 = train_data.copy().replace(['positive', 'negative', 'neutral'], \n",
    "                     [0, 1, 0]) \n",
    "train3 = train_data.copy().replace(['positive', 'negative', 'neutral'], \n",
    "                     [0, 0, 1]) \n",
    "y_train1 = train1['Sentiment']\n",
    "y_train2 = train2['Sentiment']\n",
    "y_train3 = train3['Sentiment']\n",
    "\n",
    "y_train1  = np.array(y_train1).reshape(-1,1)\n",
    "y_train2  = np.array(y_train2).reshape(-1,1)\n",
    "y_train3  = np.array(y_train3).reshape(-1,1)"
   ]
  },
  {
   "cell_type": "code",
   "execution_count": 450,
   "metadata": {},
   "outputs": [],
   "source": [
    "def sigmoid(z): \n",
    "    h = 1 / (1+np.exp(-z))\n",
    "    return h"
   ]
  },
  {
   "cell_type": "code",
   "execution_count": 536,
   "metadata": {},
   "outputs": [],
   "source": [
    "def Weights_and_cost(X,y,L,epoch,c):\n",
    "    w=np.zeros((len(X[1]),1))\n",
    "    N = len(X[0])\n",
    "    cost = []\n",
    "    for i in range(epoch):\n",
    "        z=np.dot(X,w)\n",
    "        y_pred = sigmoid(z)\n",
    "        cost.append(-np.sum(y*np.log(y_pred)+(1-y)*np.log(1-y_pred)))\n",
    "        dw=1/N*np.dot(X.T,(y_pred-y)) \n",
    "        dwr = dw + (c / N) * np.r_[[[0]], w[1:]] # https://stackoverflow.com/questions/52286971/regularized-logistic-regression-in-python-andrew-ng-course\n",
    "        w = w - Learning_Rate*dwr\n",
    "    return w,cost"
   ]
  },
  {
   "cell_type": "code",
   "execution_count": 903,
   "metadata": {},
   "outputs": [
    {
     "data": {
      "image/png": "[encoded data removed]",
      "text/plain": [
       "<Figure size 432x288 with 1 Axes>"
      ]
     },
     "metadata": {
      "needs_background": "light"
     },
     "output_type": "display_data"
    },
    {
     "data": {
      "image/png": "[encoded data removed]",
      "text/plain": [
       "<Figure size 432x288 with 1 Axes>"
      ]
     },
     "metadata": {
      "needs_background": "light"
     },
     "output_type": "display_data"
    },
    {
     "data": {
      "image/png": "[encoded data removed]",
      "text/plain": [
       "<Figure size 432x288 with 1 Axes>"
      ]
     },
     "metadata": {
      "needs_background": "light"
     },
     "output_type": "display_data"
    },
    {
     "data": {
      "image/png": "[encoded data removed]",
      "text/plain": [
       "<Figure size 432x288 with 1 Axes>"
      ]
     },
     "metadata": {
      "needs_background": "light"
     },
     "output_type": "display_data"
    },
    {
     "data": {
      "image/png": "[encoded data removed]",
      "text/plain": [
       "<Figure size 432x288 with 1 Axes>"
      ]
     },
     "metadata": {
      "needs_background": "light"
     },
     "output_type": "display_data"
    },
    {
     "data": {
      "image/png": "[encoded data removed]",
      "text/plain": [
       "<Figure size 432x288 with 1 Axes>"
      ]
     },
     "metadata": {
      "needs_background": "light"
     },
     "output_type": "display_data"
    }
   ],
   "source": [
    "alpha = [0.0001, 0.001]\n",
    "reg = [0.5,1,1.5]\n",
    "for a in alpha:\n",
    "    for c in reg:\n",
    "        w1,cost1 = Weights_and_cost(x_train,y_train1,a,1000,c)\n",
    "        w2,cost2 = Weights_and_cost(x_train,y_train2,a,1000,c)\n",
    "        w3,cost3 = Weights_and_cost(x_train,y_train3,a,1000,c)\n",
    "        Cel = np.array([cost1,cost2,cost3])\n",
    "        Cross_entropy_loss = Cel.sum(axis=0)\n",
    "        plt.plot(Cross_entropy_loss)\n",
    "        plt.xlabel(\"Epoch \")\n",
    "        plt.ylabel( \"Cross_entropy_loss\")\n",
    "        plt.title(c)\n",
    "        plt.show()\n"
   ]
  },
  {
   "cell_type": "code",
   "execution_count": 710,
   "metadata": {},
   "outputs": [],
   "source": [
    "x_test = df2.values\n",
    "train = train_data.copy().replace(['positive', 'negative', 'neutral'], [0, 1, 2]) \n",
    "y_train = train['Sentiment']\n",
    "y_train  = np.array(y_train).reshape(-1,1)\n",
    "test = test_data.copy().replace(['positive', 'negative', 'neutral'], [0, 1, 2]) \n",
    "y_test  = np.array(y_test).reshape(-1,1)"
   ]
  },
  {
   "cell_type": "code",
   "execution_count": 711,
   "metadata": {},
   "outputs": [],
   "source": [
    "#as we can see loss is minimized when we use 0.5 as regularization otherwise loss does not converge to below 1000 for 1000 epochs\n",
    "#as 0.001 gives a reasonably well/nearly the same accuracy faster we will be using it\n",
    "L = 0.001\n",
    "epoch= 1000\n",
    "c = 0.5\n",
    "w1,cost1 = Weights_and_cost(x_train,y_train1,L,epoch,c)\n",
    "w2,cost2 = Weights_and_cost(x_train,y_train2,L,epoch,c)\n",
    "w3,cost3 = Weights_and_cost(x_train,y_train3,L,epoch,c)"
   ]
  },
  {
   "cell_type": "code",
   "execution_count": 712,
   "metadata": {},
   "outputs": [],
   "source": [
    "y_p_1 = sigmoid(np.dot(x_test,w1))\n",
    "y_p_2 = sigmoid(np.dot(x_test,w2))\n",
    "y_p_3 = sigmoid(np.dot(x_test,w3))\n",
    "\n",
    "p = np.hstack((y_p_1,y_p_2,y_p_3))\n",
    "y_pred = np.argmax(p, axis=1)"
   ]
  },
  {
   "cell_type": "markdown",
   "metadata": {},
   "source": [
    "# Evalutation metrics"
   ]
  },
  {
   "cell_type": "code",
   "execution_count": 716,
   "metadata": {},
   "outputs": [],
   "source": [
    "def compute_Accuracy(true, pred):\n",
    "    true_val = 0\n",
    "    for i in range(len(true)):\n",
    "        if true[i] == pred[i]:\n",
    "            true_val += 1\n",
    "    return true_val / float(len(true))"
   ]
  },
  {
   "cell_type": "code",
   "execution_count": 789,
   "metadata": {},
   "outputs": [
    {
     "data": {
      "text/plain": [
       "0.7636612021857924"
      ]
     },
     "execution_count": 789,
     "metadata": {},
     "output_type": "execute_result"
    }
   ],
   "source": [
    "compute_Accuracy(y_test, y_pred)"
   ]
  },
  {
   "cell_type": "code",
   "execution_count": 825,
   "metadata": {},
   "outputs": [],
   "source": [
    "def f1_m(actual,pred,clas):\n",
    "    f1_score = np.zeros(clas)\n",
    "    for i in range(clas):\n",
    "        tp = tn = fp =  fn = 0\n",
    "        for j in range(len(pred)):\n",
    "            if pred[j] == i and i == actual[j]:\n",
    "                tp += 1\n",
    "            elif pred[j] != i and i != actual[j]:\n",
    "                tn += 1\n",
    "            elif pred[i] == i and i != actual[j]:\n",
    "                fp += 1\n",
    "            elif pred[i] != i and i == actual[j]:\n",
    "                fn += 1\n",
    "\n",
    "        f1_score[i] = 2*tp / (2*tp + fp + fn)\n",
    "\n",
    "    return sum(f1_score)/3"
   ]
  },
  {
   "cell_type": "code",
   "execution_count": 826,
   "metadata": {},
   "outputs": [
    {
     "data": {
      "text/plain": [
       "0.7579446623800582"
      ]
     },
     "execution_count": 826,
     "metadata": {},
     "output_type": "execute_result"
    }
   ],
   "source": [
    "f1_m(y_test, y_pred, 3)"
   ]
  },
  {
   "cell_type": "code",
   "execution_count": 833,
   "metadata": {},
   "outputs": [
    {
     "data": {
      "text/html": [
       "<div>\n",
       "<style scoped>\n",
       "    .dataframe tbody tr th:only-of-type {\n",
       "        vertical-align: middle;\n",
       "    }\n",
       "\n",
       "    .dataframe tbody tr th {\n",
       "        vertical-align: top;\n",
       "    }\n",
       "\n",
       "    .dataframe thead th {\n",
       "        text-align: right;\n",
       "    }\n",
       "</style>\n",
       "<table border=\"1\" class=\"dataframe\">\n",
       "  <thead>\n",
       "    <tr style=\"text-align: right;\">\n",
       "      <th>Actual</th>\n",
       "      <th>0</th>\n",
       "      <th>1</th>\n",
       "      <th>2</th>\n",
       "    </tr>\n",
       "    <tr>\n",
       "      <th>Predicted</th>\n",
       "      <th></th>\n",
       "      <th></th>\n",
       "      <th></th>\n",
       "    </tr>\n",
       "  </thead>\n",
       "  <tbody>\n",
       "    <tr>\n",
       "      <th>0</th>\n",
       "      <td>156</td>\n",
       "      <td>33</td>\n",
       "      <td>38</td>\n",
       "    </tr>\n",
       "    <tr>\n",
       "      <th>1</th>\n",
       "      <td>54</td>\n",
       "      <td>837</td>\n",
       "      <td>138</td>\n",
       "    </tr>\n",
       "    <tr>\n",
       "      <th>2</th>\n",
       "      <td>29</td>\n",
       "      <td>54</td>\n",
       "      <td>125</td>\n",
       "    </tr>\n",
       "  </tbody>\n",
       "</table>\n",
       "</div>"
      ],
      "text/plain": [
       "Actual       0    1    2\n",
       "Predicted               \n",
       "0          156   33   38\n",
       "1           54  837  138\n",
       "2           29   54  125"
      ]
     },
     "execution_count": 833,
     "metadata": {},
     "output_type": "execute_result"
    }
   ],
   "source": [
    "y_test = y_test.reshape(-1)\n",
    "conf_matrix = pd.crosstab(pd.Series(y_pred, name = 'Predicted'), pd.Series(y_test, name = 'Actual'))\n",
    "conf_matrix"
   ]
  },
  {
   "cell_type": "markdown",
   "metadata": {},
   "source": [
    "# Part 4 - Scikit Learn "
   ]
  },
  {
   "cell_type": "code",
   "execution_count": 834,
   "metadata": {},
   "outputs": [],
   "source": [
    "x_train = df.values\n",
    "x_test = df2.values\n",
    "train = train_data.copy().replace(['positive', 'negative', 'neutral'], [0, 1, 2]) \n",
    "y_train = train['Sentiment']\n",
    "test = test_data.copy().replace(['positive', 'negative', 'neutral'], [0, 1, 2]) \n",
    " \n",
    "clf = LogisticRegression(random_state=0, solver='lbfgs', multi_class='ovr').fit(x_train, y_train)\n",
    "y_pred = clf.predict(x_test)"
   ]
  },
  {
   "cell_type": "code",
   "execution_count": 835,
   "metadata": {},
   "outputs": [
    {
     "data": {
      "text/plain": [
       "0.6897767857243969"
      ]
     },
     "execution_count": 835,
     "metadata": {},
     "output_type": "execute_result"
    }
   ],
   "source": [
    "f1_score(y_test,y_pred , average='macro')"
   ]
  },
  {
   "cell_type": "code",
   "execution_count": 836,
   "metadata": {},
   "outputs": [
    {
     "data": {
      "text/plain": [
       "0.76775956284153"
      ]
     },
     "execution_count": 836,
     "metadata": {},
     "output_type": "execute_result"
    }
   ],
   "source": [
    "accuracy_score(y_test,y_pred , normalize=True)"
   ]
  },
  {
   "cell_type": "code",
   "execution_count": 837,
   "metadata": {},
   "outputs": [
    {
     "data": {
      "text/plain": [
       "array([[146,  47,  46],\n",
       "       [ 25, 823,  76],\n",
       "       [ 23, 123, 155]])"
      ]
     },
     "execution_count": 837,
     "metadata": {},
     "output_type": "execute_result"
    }
   ],
   "source": [
    "confusion_matrix = confusion_matrix(y_test, y_pred)\n",
    "confusion_matrix"
   ]
  },
  {
   "cell_type": "markdown",
   "metadata": {},
   "source": [
    "# Part 5 - Naive Bayes"
   ]
  },
  {
   "cell_type": "code",
   "execution_count": 838,
   "metadata": {},
   "outputs": [],
   "source": [
    "tweets = train_data['Procesed']\n",
    "tweets_test = test_data['Procesed']\n",
    "pos = []\n",
    "neg = []\n",
    "npos = 0\n",
    "nneg = 0\n",
    "nneu = 0\n",
    "for i in range(len(sentiment)):\n",
    "    if sentiment[i] == 'positive':\n",
    "        pos.append(tweets[i])\n",
    "        npos += 1\n",
    "    elif sentiment[i] == 'negative':\n",
    "        neg.append(tweets[i])\n",
    "        nneg += 1\n",
    "    else:\n",
    "        neu.append(tweets[i])\n",
    "        nneu += 1\n"
   ]
  },
  {
   "cell_type": "code",
   "execution_count": 839,
   "metadata": {},
   "outputs": [],
   "source": [
    "words = [word for line in tweets for word in line.split()] \n",
    "vocab = list(set(words))\n",
    "wpos = [word for line in pos for word in line.split()]\n",
    "wneg = [word for line in neg for word in line.split()]\n",
    "wneu = [word for line in neu for word in line.split()] "
   ]
  },
  {
   "cell_type": "code",
   "execution_count": 841,
   "metadata": {},
   "outputs": [],
   "source": [
    "train = train_data.replace(['positive', 'negative', 'neutral'], [0, 1, 2]) "
   ]
  },
  {
   "cell_type": "code",
   "execution_count": 842,
   "metadata": {},
   "outputs": [],
   "source": [
    "def train(classes,word, counts):\n",
    "    log_prior = []\n",
    "    log_likelihood = []\n",
    "    for i,c in enumerate(classes):\n",
    "        prob = counts[i] / np.sum(counts)\n",
    "        log_prior.append(np.log(prob))\n",
    "        b = len(c)+len(vocab)\n",
    "        a = c.count(word) + 1\n",
    "        log_likelihood.append(np.log(a/b))\n",
    "    return log_prior,log_likelihood\n",
    "classes = [wpos,wneg, wneu]\n",
    "counts = [npos, nneg, nneu]"
   ]
  },
  {
   "cell_type": "code",
   "execution_count": 843,
   "metadata": {},
   "outputs": [],
   "source": [
    "def test_bayes(test_sent,classes,counts): \n",
    "    sums = []\n",
    "    test = test_sent.split()\n",
    "    for i in range(3):\n",
    "        sm = []\n",
    "        for word in test:\n",
    "            if word in vocab:\n",
    "                sm.append(train(classes,word,counts)[0][i] + train(classes,word,counts)[1][i])\n",
    "        sums.append(sum(sm))    \n",
    "    return sums"
   ]
  },
  {
   "cell_type": "code",
   "execution_count": 844,
   "metadata": {},
   "outputs": [],
   "source": [
    "sent = []\n",
    "for sentence in tweets_test:\n",
    "    classes = [wpos, wneg, wneu]\n",
    "    counts = [npos, nneg, nneu]\n",
    "    arr = test_bayes(sentence,classes,counts)\n",
    "    sent.append(arr.index(max(arr)))"
   ]
  },
  {
   "cell_type": "code",
   "execution_count": 898,
   "metadata": {},
   "outputs": [],
   "source": [
    "test = test.replace(['positive', 'negative', 'neutral'], [0, 1, 2]) \n",
    "y_test = test['Sentiment']"
   ]
  },
  {
   "cell_type": "markdown",
   "metadata": {},
   "source": [
    "# Evaluation"
   ]
  },
  {
   "cell_type": "code",
   "execution_count": 846,
   "metadata": {},
   "outputs": [
    {
     "data": {
      "text/plain": [
       "0.40810585948200623"
      ]
     },
     "execution_count": 846,
     "metadata": {},
     "output_type": "execute_result"
    }
   ],
   "source": [
    "f1_m(y_test, sent, 3) #F1 score is on the lower side but TA Alishba has gone through the code of part -5 Naive - bayes line by \n",
    "#line by line and has approved and said there are no major bugs"
   ]
  },
  {
   "cell_type": "code",
   "execution_count": 848,
   "metadata": {},
   "outputs": [
    {
     "data": {
      "text/plain": [
       "0.6680327868852459"
      ]
     },
     "execution_count": 848,
     "metadata": {},
     "output_type": "execute_result"
    }
   ],
   "source": [
    "compute_Accuracy(y_test, sent)"
   ]
  },
  {
   "cell_type": "code",
   "execution_count": 849,
   "metadata": {},
   "outputs": [
    {
     "data": {
      "text/html": [
       "<div>\n",
       "<style scoped>\n",
       "    .dataframe tbody tr th:only-of-type {\n",
       "        vertical-align: middle;\n",
       "    }\n",
       "\n",
       "    .dataframe tbody tr th {\n",
       "        vertical-align: top;\n",
       "    }\n",
       "\n",
       "    .dataframe thead th {\n",
       "        text-align: right;\n",
       "    }\n",
       "</style>\n",
       "<table border=\"1\" class=\"dataframe\">\n",
       "  <thead>\n",
       "    <tr style=\"text-align: right;\">\n",
       "      <th>Actual</th>\n",
       "      <th>0</th>\n",
       "      <th>1</th>\n",
       "      <th>2</th>\n",
       "    </tr>\n",
       "    <tr>\n",
       "      <th>Predicted</th>\n",
       "      <th></th>\n",
       "      <th></th>\n",
       "      <th></th>\n",
       "    </tr>\n",
       "  </thead>\n",
       "  <tbody>\n",
       "    <tr>\n",
       "      <th>0</th>\n",
       "      <td>34</td>\n",
       "      <td>5</td>\n",
       "      <td>9</td>\n",
       "    </tr>\n",
       "    <tr>\n",
       "      <th>1</th>\n",
       "      <td>196</td>\n",
       "      <td>915</td>\n",
       "      <td>263</td>\n",
       "    </tr>\n",
       "    <tr>\n",
       "      <th>2</th>\n",
       "      <td>9</td>\n",
       "      <td>4</td>\n",
       "      <td>29</td>\n",
       "    </tr>\n",
       "  </tbody>\n",
       "</table>\n",
       "</div>"
      ],
      "text/plain": [
       "Actual       0    1    2\n",
       "Predicted               \n",
       "0           34    5    9\n",
       "1          196  915  263\n",
       "2            9    4   29"
      ]
     },
     "execution_count": 849,
     "metadata": {},
     "output_type": "execute_result"
    }
   ],
   "source": [
    "conf_matrix = pd.crosstab(pd.Series(sent, name = 'Predicted'), pd.Series(y_test, name = 'Actual'))\n",
    "conf_matrix"
   ]
  },
  {
   "cell_type": "markdown",
   "metadata": {},
   "source": [
    "# Part 6 - Scikit"
   ]
  },
  {
   "cell_type": "code",
   "execution_count": 855,
   "metadata": {},
   "outputs": [],
   "source": [
    "from sklearn.naive_bayes import MultinomialNB\n",
    "nb = MultinomialNB()\n",
    "nb = nb.fit(x_train,y_train)\n",
    "nb_predict=nb.predict(x_test)"
   ]
  },
  {
   "cell_type": "code",
   "execution_count": 856,
   "metadata": {},
   "outputs": [
    {
     "data": {
      "text/plain": [
       "0.7629781420765027"
      ]
     },
     "execution_count": 856,
     "metadata": {},
     "output_type": "execute_result"
    }
   ],
   "source": [
    "accuracy_score(y_test,nb_predict)"
   ]
  },
  {
   "cell_type": "code",
   "execution_count": 857,
   "metadata": {},
   "outputs": [
    {
     "data": {
      "text/plain": [
       "0.6477570904321102"
      ]
     },
     "execution_count": 857,
     "metadata": {},
     "output_type": "execute_result"
    }
   ],
   "source": [
    "f1_score(y_test,nb_predict,average = 'macro')"
   ]
  },
  {
   "cell_type": "code",
   "execution_count": 897,
   "metadata": {},
   "outputs": [
    {
     "data": {
      "text/plain": [
       "array([[132,  83,  24],\n",
       "       [  8, 887,  29],\n",
       "       [ 25, 178,  98]])"
      ]
     },
     "execution_count": 897,
     "metadata": {},
     "output_type": "execute_result"
    }
   ],
   "source": [
    "from sklearn.metrics import confusion_matrix\n",
    "cm = confusion_matrix(y_test,nb_predict)\n",
    "cm"
   ]
  },
  {
   "cell_type": "code",
   "execution_count": null,
   "metadata": {},
   "outputs": [],
   "source": [
    "# Accuracy of Logistic: 0.76775956284153\n",
    "# Accuracy of Naive: 0.7629781420765027\n",
    "# Macro f1 of Logistic: 0.6897767857243969\n",
    "# Macro f1 of Naive: 0.6477570904321102\n",
    "\n",
    "\n",
    "# It can be observed that the Macro f1 Score of Logistic is better than Naive Bayes.\n",
    "#Naive Bayes  assumes that the features are conditionally independent and Real data sets are never perfectly independent but they can be close. \n",
    "# and Naive Bayes has a higher bias but lower variance compared to logistic regression as we can see here\n",
    "#that features do have an element of correlation therefore logistic has fared better\n"
   ]
  }
 ],
 "metadata": {
  "kernelspec": {
   "display_name": "Python 3",
   "language": "python",
   "name": "python3"
  },
  "language_info": {
   "codemirror_mode": {
    "name": "ipython",
    "version": 3
   },
   "file_extension": ".py",
   "mimetype": "text/x-python",
   "name": "python",
   "nbconvert_exporter": "python",
   "pygments_lexer": "ipython3",
   "version": "3.8.5"
  }
 },
 "nbformat": 4,
 "nbformat_minor": 4
}
